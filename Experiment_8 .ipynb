{
 "cells": [
  {
   "cell_type": "markdown",
   "id": "6134a87c",
   "metadata": {},
   "source": [
    "# Central tendency of  measure means, mode, median"
   ]
  },
  {
   "cell_type": "code",
   "execution_count": 1,
   "id": "0331c2bc",
   "metadata": {},
   "outputs": [],
   "source": [
    "#Name : Shruti Pramod Dahane\n",
    "#Roll no:24\n",
    "#Section :3rd-A\n",
    "#Date :27/07/2024"
   ]
  },
  {
   "cell_type": "code",
   "execution_count": 2,
   "id": "bc5897de",
   "metadata": {},
   "outputs": [],
   "source": [
    "# aim: To perform central tendency of measure"
   ]
  },
  {
   "cell_type": "code",
   "execution_count": 3,
   "id": "ce2d1b54",
   "metadata": {},
   "outputs": [],
   "source": [
    "Age=[21,21,22,23,22,21,22,21,21,21,22,23,22,21,23,21,21,21,22,23,22,21,23,21]"
   ]
  },
  {
   "cell_type": "code",
   "execution_count": 7,
   "id": "61ddc7af",
   "metadata": {},
   "outputs": [],
   "source": [
    "import statistics"
   ]
  },
  {
   "cell_type": "code",
   "execution_count": 10,
   "id": "5a0d6c4d",
   "metadata": {},
   "outputs": [],
   "source": [
    "MEAN=statistics.mean(Age)"
   ]
  },
  {
   "cell_type": "code",
   "execution_count": 11,
   "id": "485b437b",
   "metadata": {},
   "outputs": [
    {
     "data": {
      "text/plain": [
       "21.708333333333332"
      ]
     },
     "execution_count": 11,
     "metadata": {},
     "output_type": "execute_result"
    }
   ],
   "source": [
    "MEAN"
   ]
  },
  {
   "cell_type": "code",
   "execution_count": 12,
   "id": "0dfafce0",
   "metadata": {},
   "outputs": [],
   "source": [
    "MEDIAN=statistics.median(Age)"
   ]
  },
  {
   "cell_type": "code",
   "execution_count": 13,
   "id": "0fd777d2",
   "metadata": {},
   "outputs": [
    {
     "data": {
      "text/plain": [
       "21.5"
      ]
     },
     "execution_count": 13,
     "metadata": {},
     "output_type": "execute_result"
    }
   ],
   "source": [
    "MEDIAN\n"
   ]
  },
  {
   "cell_type": "code",
   "execution_count": 14,
   "id": "c38ecf5d",
   "metadata": {},
   "outputs": [],
   "source": [
    "MODE=statistics.mode(Age)\n"
   ]
  },
  {
   "cell_type": "code",
   "execution_count": 15,
   "id": "39b8dfd9",
   "metadata": {},
   "outputs": [
    {
     "data": {
      "text/plain": [
       "21"
      ]
     },
     "execution_count": 15,
     "metadata": {},
     "output_type": "execute_result"
    }
   ],
   "source": [
    "MODE\n"
   ]
  },
  {
   "cell_type": "code",
   "execution_count": null,
   "id": "bdf2f41e",
   "metadata": {},
   "outputs": [],
   "source": []
  }
 ],
 "metadata": {
  "kernelspec": {
   "display_name": "Python 3 (ipykernel)",
   "language": "python",
   "name": "python3"
  },
  "language_info": {
   "codemirror_mode": {
    "name": "ipython",
    "version": 3
   },
   "file_extension": ".py",
   "mimetype": "text/x-python",
   "name": "python",
   "nbconvert_exporter": "python",
   "pygments_lexer": "ipython3",
   "version": "3.11.5"
  }
 },
 "nbformat": 4,
 "nbformat_minor": 5
}
