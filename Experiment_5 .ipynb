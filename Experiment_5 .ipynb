{
 "cells": [
  {
   "cell_type": "markdown",
   "id": "74620e33",
   "metadata": {},
   "source": [
    "# Creation of array using numpy"
   ]
  },
  {
   "cell_type": "code",
   "execution_count": 1,
   "id": "6172eaa8",
   "metadata": {},
   "outputs": [],
   "source": [
    "#Name : Shruti Pramod Dahane\n",
    "#Roll no:24\n",
    "#Section :3rd-A\n",
    "#Date :27/07/2024"
   ]
  },
  {
   "cell_type": "code",
   "execution_count": 2,
   "id": "7e6d241b",
   "metadata": {},
   "outputs": [],
   "source": [
    "#Aim:Creation of 1D, 2D and multidimensional array (Data cube/OLAP)using numpy."
   ]
  },
  {
   "cell_type": "code",
   "execution_count": 3,
   "id": "93742edd",
   "metadata": {},
   "outputs": [],
   "source": [
    "#importing the basic library\n",
    "import numpy as np"
   ]
  },
  {
   "cell_type": "code",
   "execution_count": 4,
   "id": "a599a50f",
   "metadata": {},
   "outputs": [],
   "source": [
    "a1=np.array([10,20,30,40,50])"
   ]
  },
  {
   "cell_type": "code",
   "execution_count": 5,
   "id": "74e076e4",
   "metadata": {},
   "outputs": [
    {
     "data": {
      "text/plain": [
       "array([10, 20, 30, 40, 50])"
      ]
     },
     "execution_count": 5,
     "metadata": {},
     "output_type": "execute_result"
    }
   ],
   "source": [
    "a1"
   ]
  },
  {
   "cell_type": "code",
   "execution_count": 6,
   "id": "97797bb9",
   "metadata": {},
   "outputs": [],
   "source": [
    "a2=np.array([[10,20,30,40],[60,70,80,90]])"
   ]
  },
  {
   "cell_type": "code",
   "execution_count": 7,
   "id": "8c416313",
   "metadata": {},
   "outputs": [
    {
     "data": {
      "text/plain": [
       "array([[10, 20, 30, 40],\n",
       "       [60, 70, 80, 90]])"
      ]
     },
     "execution_count": 7,
     "metadata": {},
     "output_type": "execute_result"
    }
   ],
   "source": [
    "a2"
   ]
  },
  {
   "cell_type": "code",
   "execution_count": 8,
   "id": "771477bd",
   "metadata": {},
   "outputs": [],
   "source": [
    "a3=np.array([['R1','R2','R3','R4'],['ABC','XYZ','PQR','EFG'],[40,55,64,22]])"
   ]
  },
  {
   "cell_type": "code",
   "execution_count": 9,
   "id": "20a345bf",
   "metadata": {},
   "outputs": [
    {
     "data": {
      "text/plain": [
       "array([['R1', 'R2', 'R3', 'R4'],\n",
       "       ['ABC', 'XYZ', 'PQR', 'EFG'],\n",
       "       ['40', '55', '64', '22']], dtype='<U11')"
      ]
     },
     "execution_count": 9,
     "metadata": {},
     "output_type": "execute_result"
    }
   ],
   "source": [
    "a3"
   ]
  },
  {
   "cell_type": "code",
   "execution_count": null,
   "id": "3e3ce68f",
   "metadata": {},
   "outputs": [],
   "source": []
  }
 ],
 "metadata": {
  "kernelspec": {
   "display_name": "Python 3 (ipykernel)",
   "language": "python",
   "name": "python3"
  },
  "language_info": {
   "codemirror_mode": {
    "name": "ipython",
    "version": 3
   },
   "file_extension": ".py",
   "mimetype": "text/x-python",
   "name": "python",
   "nbconvert_exporter": "python",
   "pygments_lexer": "ipython3",
   "version": "3.11.5"
  }
 },
 "nbformat": 4,
 "nbformat_minor": 5
}
